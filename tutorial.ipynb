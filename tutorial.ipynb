{
 "cells": [
  {
   "cell_type": "markdown",
   "metadata": {},
   "source": [
    "# Tutorial SQL\n",
    "by Gianlucca Devigili\n",
    "\n",
    "Este tutorial foi desenvolvido para a disciplina de Modelagem Informacional da graduação em Ciência de Dados e Inteligência Artificial da Escola de Matemática Aplicada da FGV-RJ.\n",
    "\n",
    "Usarei para este tutorial o `sqlite3` e a *python 3.9* para o acesso ao banco. A escolha se justifica simplesmente pelo sqlite ser serverless e poder disponibilizar as databases de exemplo [neste repositório](https://github.com/GDevigili/sql-tutorial/tree/main/data).\n",
    "Todos os recursos e comandos usados aqui podem ser usados em outras databases como SQL Server e MySQL."
   ]
  },
  {
   "cell_type": "code",
   "execution_count": 2,
   "metadata": {},
   "outputs": [],
   "source": [
    "import sqlite3\n",
    "cur = sqlite3.connect('data/sample.db').cursor"
   ]
  },
  {
   "cell_type": "code",
   "execution_count": null,
   "metadata": {},
   "outputs": [],
   "source": []
  }
 ],
 "metadata": {
  "interpreter": {
   "hash": "f9f85f796d01129d0dd105a088854619f454435301f6ffec2fea96ecbd9be4ac"
  },
  "kernelspec": {
   "display_name": "Python 3.9.9 64-bit",
   "language": "python",
   "name": "python3"
  },
  "language_info": {
   "codemirror_mode": {
    "name": "ipython",
    "version": 3
   },
   "file_extension": ".py",
   "mimetype": "text/x-python",
   "name": "python",
   "nbconvert_exporter": "python",
   "pygments_lexer": "ipython3",
   "version": "3.9.9"
  },
  "orig_nbformat": 4
 },
 "nbformat": 4,
 "nbformat_minor": 2
}
