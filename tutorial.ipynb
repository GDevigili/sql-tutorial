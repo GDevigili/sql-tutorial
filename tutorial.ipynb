{
 "cells": [
  {
   "cell_type": "markdown",
   "metadata": {},
   "source": [
    "# Tutorial SQL\n",
    "by Gianlucca Devigili\n",
    "\n",
    "Este tutorial foi desenvolvido para a disciplina de Modelagem Informacional da graduação em Ciência de Dados e Inteligência Artificial da Escola de Matemática Aplicada da FGV-RJ.\n",
    "\n",
    "Usarei para este tutorial o `sqlite3` e a *python 3.9* para o acesso ao banco. A escolha se justifica simplesmente pelo sqlite ser serverless e poder disponibilizar as databases de exemplo [neste repositório](https://github.com/GDevigili/sql-tutorial/tree/main/data).\n",
    "Todos os recursos e comandos usados aqui podem ser usados em outras databases como SQL Server e MySQL.\n",
    "\n",
    "\n",
    "Referências:\n",
    "+ **W3SCHOOLS**, [SQL Tutorial](https://www.w3schools.com/sql/). "
   ]
  },
  {
   "cell_type": "markdown",
   "metadata": {},
   "source": [
    "O banco de dados que usaremos nesse tutorial segue o seguinte modelo:\n",
    "\n",
    "![](data/sample_db_er_model.png)\n",
    "\n",
    "cujo arquivo pode ser acessado [aqui](https://github.com/GDevigili/sql-tutorial/blob/main/data/sample.db)"
   ]
  },
  {
   "cell_type": "code",
   "execution_count": 1,
   "metadata": {},
   "outputs": [],
   "source": [
    "# configurações iniciais\n",
    "import sqlite3\n",
    "cur = sqlite3.connect('data/sample.db').cursor()\n",
    "\n",
    "from utils import print_select # função que printa o select como tabela"
   ]
  },
  {
   "cell_type": "code",
   "execution_count": 2,
   "metadata": {},
   "outputs": [],
   "source": [
    "# criação da database\n",
    "with open('data/sample_db_create.sql', 'r') as sql_file:\n",
    "    create_script = sql_file.read()\n",
    "\n",
    "cur.executescript(create_script);"
   ]
  },
  {
   "cell_type": "code",
   "execution_count": 3,
   "metadata": {},
   "outputs": [],
   "source": [
    "# definição de variáveis\n",
    "cols_cliente = ['id', 'nome', 'telefone', 'cpf', 'nascimento']"
   ]
  },
  {
   "cell_type": "markdown",
   "metadata": {},
   "source": [
    "## SELECT\n",
    "\n",
    "O comando SQL mais comum é o `SELECT`, que, como o nome já diz, seleciona alguma coisa.\n",
    "A estrutura base é:\n",
    "\n",
    "```sql\n",
    "SELECT atributo1, atributo2\n",
    "FROM tabela;\n",
    "```\n",
    "\n",
    "Por exemplo, se quiséssemos selecionar todas as colunas da tabela `produto` poderíamos fazer o seguinte comando:"
   ]
  },
  {
   "cell_type": "code",
   "execution_count": 4,
   "metadata": {},
   "outputs": [
    {
     "name": "stdout",
     "output_type": "stream",
     "text": [
      "id    nome    telefone    cpf    nascimento\n",
      "----  ------  ----------  -----  ------------\n"
     ]
    }
   ],
   "source": [
    "# armazena o texto da query em uma variável\n",
    "query_cliente = \"\"\"\n",
    "SELECT * \n",
    "FROM produto;\n",
    "\"\"\"\n",
    "\n",
    "# executa a query\n",
    "cur.execute(query_cliente)\n",
    "\n",
    "# printa o resultado da query\n",
    "print_select(cur.fetchall(), cols_cliente)"
   ]
  },
  {
   "cell_type": "markdown",
   "metadata": {},
   "source": [
    "uepa, parece que não tem dados aqui, melhor fazer alguns `INSERT`s antes.\n",
    "\n",
    "## INSERT\n",
    "\n",
    "A estrutura base do `INSERT` é:\n",
    "\n",
    "```sql\n",
    "INSERT INTO tabela (coluna1, coluna2)\n",
    "VALUES ('valor1', 'valor2');\n",
    "```\n",
    "\n",
    "agora na prática, vamos adicionar alguns `clientes`s na DB:"
   ]
  },
  {
   "cell_type": "code",
   "execution_count": 5,
   "metadata": {},
   "outputs": [],
   "source": [
    "cur.execute(\"\"\"\n",
    "INSERT INTO produto\n",
    "VALUES (1, 'Ednaldo Pereira', '12345678910', '12345678910', '1974-06-12');\n",
    "\"\"\");"
   ]
  },
  {
   "cell_type": "markdown",
   "metadata": {},
   "source": [
    "Agora podemos selecionar o produto novamente:"
   ]
  },
  {
   "cell_type": "code",
   "execution_count": 6,
   "metadata": {},
   "outputs": [
    {
     "name": "stdout",
     "output_type": "stream",
     "text": [
      "  id  nome                telefone          cpf  nascimento\n",
      "----  ---------------  -----------  -----------  ------------\n",
      "   1  Ednaldo Pereira  12345678910  12345678910  1974-06-12\n"
     ]
    }
   ],
   "source": [
    "cur.execute(query_cliente)\n",
    "print_select(cur.fetchall(), cols_cliente)"
   ]
  },
  {
   "cell_type": "markdown",
   "metadata": {},
   "source": [
    "Para inserir vários valores de uma vez podemos fazer:"
   ]
  },
  {
   "cell_type": "code",
   "execution_count": 7,
   "metadata": {},
   "outputs": [],
   "source": [
    "cur.execute(\"\"\"\n",
    "INSERT INTO produto\n",
    "VALUES \n",
    "(2, 'Celso Portiolli', '11912345678', '03110911091', '1981-09-11'),\n",
    "(3, 'Fausto Silva', '31415926535', '31415956535', '1960-04-01'),\n",
    "(4, 'Fofão', '98765432111', '98765432111', '2004-08-29');\n",
    "\"\"\");"
   ]
  },
  {
   "cell_type": "code",
   "execution_count": 8,
   "metadata": {},
   "outputs": [
    {
     "name": "stdout",
     "output_type": "stream",
     "text": [
      "id    nome    telefone    cpf    nascimento\n",
      "----  ------  ----------  -----  ------------\n"
     ]
    }
   ],
   "source": [
    "print_select(cur.fetchall(), cols_cliente)"
   ]
  },
  {
   "cell_type": "code",
   "execution_count": 9,
   "metadata": {},
   "outputs": [
    {
     "name": "stdout",
     "output_type": "stream",
     "text": [
      "  id  nome                telefone          cpf  nascimento\n",
      "----  ---------------  -----------  -----------  ------------\n",
      "   1  Ednaldo Pereira  12345678910  12345678910  1974-06-12\n",
      "   2  Celso Portiolli  11912345678  03110911091  1981-09-11\n",
      "   3  Fausto Silva     31415926535  31415956535  1960-04-01\n",
      "   4  Fofão            98765432111  98765432111  2004-08-29\n"
     ]
    }
   ],
   "source": [
    "cur.execute(query_cliente)\n",
    "print_select(cur.fetchall(), cols_cliente)"
   ]
  }
 ],
 "metadata": {
  "interpreter": {
   "hash": "f9f85f796d01129d0dd105a088854619f454435301f6ffec2fea96ecbd9be4ac"
  },
  "kernelspec": {
   "display_name": "Python 3.9.9 64-bit",
   "language": "python",
   "name": "python3"
  },
  "language_info": {
   "codemirror_mode": {
    "name": "ipython",
    "version": 3
   },
   "file_extension": ".py",
   "mimetype": "text/x-python",
   "name": "python",
   "nbconvert_exporter": "python",
   "pygments_lexer": "ipython3",
   "version": "3.8.10"
  },
  "orig_nbformat": 4
 },
 "nbformat": 4,
 "nbformat_minor": 2
}
